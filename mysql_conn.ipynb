{
 "cells": [
  {
   "cell_type": "code",
   "execution_count": null,
   "metadata": {},
   "outputs": [],
   "source": [
    "#!pip install mysql-connector-python"
   ]
  },
  {
   "cell_type": "code",
   "execution_count": null,
   "metadata": {},
   "outputs": [],
   "source": [
    "import mysql.connector as connector"
   ]
  },
  {
   "cell_type": "code",
   "execution_count": null,
   "metadata": {},
   "outputs": [],
   "source": [
    "connectDB = \"\"\"\n",
    "use littlelemondb;\n",
    "\"\"\"\n",
    "connection = connector.connect(\n",
    "    user = \"root\",\n",
    "    password = MYSQL_ENV_PW,\n",
    "    database = \"littlelemondb\",\n",
    "    host = \"127.0.0.1\",\n",
    "    port = 3306\n",
    "    init_command = connectDB\n",
    ")\n",
    "connection.database"
   ]
  },
  {
   "cell_type": "code",
   "execution_count": null,
   "metadata": {},
   "outputs": [],
   "source": [
    "cursor = connection.cursor()"
   ]
  },
  {
   "cell_type": "code",
   "execution_count": null,
   "metadata": {},
   "outputs": [],
   "source": []
  },
  {
   "cell_type": "code",
   "execution_count": null,
   "metadata": {},
   "outputs": [],
   "source": [
    "showTable_qr = \"\"\"\n",
    "SHOW tables\n",
    "\"\"\"\n",
    "cursor.execute(showTable_qr)\n",
    "res = cursor.fetchall()\n",
    "for r in res:\n",
    "    print(r)"
   ]
  },
  {
   "cell_type": "code",
   "execution_count": null,
   "metadata": {},
   "outputs": [],
   "source": [
    "### prints orders from a customer table\n",
    "orders_qr = \"\"\"\n",
    "SELECT * FROM Customers\n",
    "\"\"\"\n",
    "cursor.execute(orders_qr)\n",
    "res = cursor.fetchall()\n",
    "col = cursor.column_names\n",
    "print(col)\n",
    "for r in res:\n",
    "    print(r)"
   ]
  },
  {
   "cell_type": "code",
   "execution_count": null,
   "metadata": {},
   "outputs": [],
   "source": []
  }
 ],
 "metadata": {
  "kernelspec": {
   "display_name": "Python 3",
   "language": "python",
   "name": "python3"
  },
  "language_info": {
   "codemirror_mode": {
    "name": "ipython",
    "version": 3
   },
   "file_extension": ".py",
   "mimetype": "text/x-python",
   "name": "python",
   "nbconvert_exporter": "python",
   "pygments_lexer": "ipython3",
   "version": "3.10.11"
  },
  "orig_nbformat": 4
 },
 "nbformat": 4,
 "nbformat_minor": 2
}
